{
 "cells": [
  {
   "cell_type": "code",
   "execution_count": null,
   "metadata": {},
   "outputs": [],
   "source": [
    "import json\n",
    "import numpy as np\n",
    "from numpy import dot\n",
    "from numpy.linalg import norm\n",
    "\n",
    "file = open('/Users/mango/Documents/GitHub/IN4325/data/STR/queryVectors.json', 'r')\n",
    "queryVectors = json.load(file)\n",
    "file.close()"
   ]
  },
  {
   "cell_type": "code",
   "execution_count": null,
   "metadata": {},
   "outputs": [],
   "source": [
    "list(queryVectors[0]['vectors'][1].values())"
   ]
  },
  {
   "cell_type": "code",
   "execution_count": null,
   "metadata": {},
   "outputs": [],
   "source": [
    "file = open('/Users/mango/Documents/GitHub/IN4325/data/STR/queryWordsTFIDF.json', 'r')\n",
    "queryTFIDFs = json.load(file)\n",
    "file.close()"
   ]
  },
  {
   "cell_type": "code",
   "execution_count": null,
   "metadata": {},
   "outputs": [],
   "source": [
    "term = queryTFIDFs[0]['words'][0]\n",
    "queryTFIDFs[0]['termValues'][term]['TFIDF'] * np.array(list(queryVectors[0]['vectors'][0].values()))\n",
    "queryTFIDFs[0]['id']"
   ]
  },
  {
   "cell_type": "code",
   "execution_count": null,
   "metadata": {},
   "outputs": [],
   "source": [
    "queryVectorCenters = [] #{'queryId':\"1\", 'center':[[]]}\n",
    "for j in range(len(queryTFIDFs)):\n",
    "    q = queryTFIDFs[j]\n",
    "    v = []\n",
    "    \n",
    "    for i in range(len(q['termValues'])):\n",
    "        term = q['words'][i]\n",
    "        \n",
    "        if \"dict_values(['not available'])\" == str(queryVectors[j]['vectors'][i].values()):\n",
    "            continue\n",
    "            \n",
    "        if (len(v) == 0):\n",
    "            v = q['termValues'][term]['TFIDF'] * np.array(list(queryVectors[j]['vectors'][i].values()))\n",
    "            continue\n",
    "            \n",
    "        v = np.add(v, q['termValues'][term]['TFIDF'] * np.array(list(queryVectors[j]['vectors'][i].values())))\n",
    "        \n",
    "    if len(queryVectorCenters) == 0:\n",
    "        queryVectorCenters = [{'id': q['id'], 'center': v}]\n",
    "    else:\n",
    "        queryVectorCenters.append( {'id': q['id'], 'center': v} )\n",
    "    "
   ]
  },
  {
   "cell_type": "code",
   "execution_count": null,
   "metadata": {},
   "outputs": [],
   "source": [
    "# queryVectorCenters[1]['center']\n",
    "# queryVectors[1]['vectors']\n",
    "queryTFIDFs[1]"
   ]
  },
  {
   "cell_type": "code",
   "execution_count": null,
   "metadata": {},
   "outputs": [],
   "source": [
    "file = open('/Users/mango/Documents/GitHub/IN4325/data/STR/tableVectors.json', 'r')\n",
    "tableVectors = json.load(file)\n",
    "file.close()\n",
    "\n",
    "file = open('/Users/mango/Documents/GitHub/IN4325/data/STR/tableWordsTFIDF.json', 'r')\n",
    "tableTFIDFs = json.load(file)\n",
    "file.close()"
   ]
  },
  {
   "cell_type": "code",
   "execution_count": null,
   "metadata": {},
   "outputs": [],
   "source": [
    "len(tableVectors[0]['vectors'])"
   ]
  },
  {
   "cell_type": "code",
   "execution_count": null,
   "metadata": {},
   "outputs": [],
   "source": [
    "term = tableTFIDFs[0]['words'][0]\n",
    "tableTFIDFs[0]['termValues'][term]"
   ]
  },
  {
   "cell_type": "code",
   "execution_count": null,
   "metadata": {},
   "outputs": [],
   "source": [
    "tableVectorCenters = [] # {'id':'table-1590-536', 'query'Id:'31', 'center':[[]]}\n",
    "early_fusion = []\n",
    "\n",
    "# columns in output file\n",
    "queryIds = []\n",
    "tableIds = []\n",
    "earlyFusions = []\n",
    "\n",
    "for j in range(len(tableVectors)):\n",
    "    t_v = tableVectors[j]\n",
    "    t_t = tableTFIDFs[j]\n",
    "    v = []\n",
    "    \n",
    "    for i in range(len(t_v['vectors'])):\n",
    "        term = t_t['words'][i]\n",
    "        \n",
    "        if \"dict_values(['not available'])\" == str(t_v['vectors'][i].values()):\n",
    "            continue\n",
    "            \n",
    "        if len(v) == 0:\n",
    "            v = t_t['termValues'][term]['TFIDF'] * np.array(list(t_v['vectors'][i].values()))\n",
    "            continue\n",
    "            \n",
    "        v = np.add(v, t_t['termValues'][term]['TFIDF'] * np.array(list(t_v['vectors'][i].values())) )\n",
    "        \n",
    "    current_query_id = int(t_v['query'])\n",
    "    v_center_q = queryVectorCenters[current_query_id-1]['center']\n",
    "    if ( type(v) == type(np.array(0)) ) & ( type(v_center_q) == type(np.array(0)) ):\n",
    "        v_center_t = v.T\n",
    "        cos_sim = dot(v_center_q, v_center_t)/(norm(v_center_q)*norm(v_center_t)) #Early Fusion: cos (C_q, C_T)\n",
    "        #cos_sim is a 2-D array with length 1\n",
    "    else:\n",
    "        cos_sim = [[0]]\n",
    "\n",
    "    if len(tableVectorCenters) == 0:\n",
    "        tableVectorCenters = [{'id': t_v['id'], 'queryId': t_v['query'], 'center': v}]\n",
    "    else:\n",
    "        tableVectorCenters.append({'id': t_v['id'], 'queryId': t_v['query'], 'center': v})\n",
    "        \n",
    "    if len(early_fusion) == 0:\n",
    "        early_fusion = [ {'QueryID': t_v['query'], 'Table id': t_v['id'], 'early_fusion': cos_sim[0][0]} ]\n",
    "    else:\n",
    "        early_fusion.append( {'QueryID': t_v['query'], 'Table id': t_v['id'], 'early_fusion': cos_sim[0][0]} )\n",
    "        \n",
    "    queryIds.append(int(t_v['query']))\n",
    "    tableIds.append(t_v['id'])\n",
    "    earlyFusions.append(cos_sim[0][0])\n",
    "    tableTFIDFs.append()\n",
    "    "
   ]
  },
  {
   "cell_type": "code",
   "execution_count": null,
   "metadata": {},
   "outputs": [],
   "source": [
    "import math\n",
    "\n",
    "def checkValueEmpty(list):\n",
    "    for i in range(len(list)):\n",
    "        if math.isnan(list[i]):\n",
    "            print(i, list[i])\n",
    "            list[i] = 0.000001\n",
    "            \n",
    "# checkValueEmpty(queryIds)\n",
    "# checkValueEmpty(tableIds)\n",
    "checkValueEmpty(earlyFusions)"
   ]
  },
  {
   "cell_type": "code",
   "execution_count": null,
   "metadata": {},
   "outputs": [],
   "source": [
    "checkValueEmpty(earlyFusions)"
   ]
  },
  {
   "cell_type": "code",
   "execution_count": null,
   "metadata": {},
   "outputs": [],
   "source": [
    "# write to csv file\n",
    "import pandas as pd\n",
    "\n",
    "df = pd.DataFrame(data={\"QueryID\": queryIds, \"Table id\":tableIds, \"early_fusion\":earlyFusions})\n",
    "\n",
    "str_ = df.sort_values(by=['QueryID', 'early_fusion'], ascending = [True, False]).copy()"
   ]
  },
  {
   "cell_type": "code",
   "execution_count": null,
   "metadata": {},
   "outputs": [],
   "source": [
    "str_.to_csv(r'/Users/mango/Desktop/STR.csv', index = False, sep=',')"
   ]
  },
  {
   "cell_type": "code",
   "execution_count": null,
   "metadata": {},
   "outputs": [],
   "source": [
    "total = df.isnull().sum().sort_values(ascending=False)\n",
    "percent_1 = df.isnull().sum()/df.isnull().count()*100\n",
    "percent_2 = (round(percent_1, 1)).sort_values(ascending=False)\n",
    "missing_data = pd.concat([total, percent_2], axis=1, keys=['Total', '%'])\n",
    "missing_data.head(5)\n",
    "# 4.9% missing data in early_fusion"
   ]
  },
  {
   "cell_type": "code",
   "execution_count": null,
   "metadata": {},
   "outputs": [],
   "source": [
    "str_['rank'] = str_.groupby('QueryID')[['QueryID', 'early_fusion']].rank(ascending=False, method='first')\n",
    "\n",
    "# Add two more columns to fit the input format of trec_eval tool\n",
    "str_[\"query\"] = \"Q0\"\n",
    "str_[\"table\"] = \"smarttable\"\n",
    "\n",
    "# Re-order the columns\n",
    "str_ = str_[['QueryID', 'query', 'Table id', 'rank', 'early_fusion', 'table']]\n",
    "\n",
    "# We take the first 5, 10, 15, 20 rankings\n",
    "str_5 = str_[str_[\"rank\"] < 6]\n",
    "str_10 = str_[str_[\"rank\"] < 11]\n",
    "str_15 = str_[str_[\"rank\"] < 16]\n",
    "str_20 = str_[str_[\"rank\"] < 21]\n",
    "\n",
    "# We write all rankings into files\n",
    "str_5.to_csv(r'/Users/mango/Desktop/STR_5.csv', header=None, index=None, sep=',')\n",
    "str_10.to_csv(r'/Users/mango/Desktop/STR_10.csv', header=None, index=None, sep=',')\n",
    "str_15.to_csv(r'/Users/mango/Desktop/STR_15.csv', header=None, index=None, sep=',')\n",
    "str_20.to_csv(r'/Users/mango/Desktop/STR_20.csv', header=None, index=None, sep=',')"
   ]
  },
  {
   "cell_type": "code",
   "execution_count": null,
   "metadata": {},
   "outputs": [],
   "source": [
    "str_.to_csv(r'/Users/mango/Desktop/STR.csv', index=None, sep=',')"
   ]
  }
 ],
 "metadata": {
  "kernelspec": {
   "display_name": "Python 3",
   "language": "python",
   "name": "python3"
  },
  "language_info": {
   "codemirror_mode": {
    "name": "ipython",
    "version": 3
   },
   "file_extension": ".py",
   "mimetype": "text/x-python",
   "name": "python",
   "nbconvert_exporter": "python",
   "pygments_lexer": "ipython3",
   "version": "3.7.1"
  }
 },
 "nbformat": 4,
 "nbformat_minor": 2
}
